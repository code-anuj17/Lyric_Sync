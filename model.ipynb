{
 "cells": [
  {
   "cell_type": "code",
   "execution_count": 1,
   "metadata": {},
   "outputs": [],
   "source": [
    "import pandas as pd\n",
    "import numpy as np\n",
    "import matplotlib.pyplot as plt\n",
    "import seaborn as sn"
   ]
  },
  {
   "cell_type": "code",
   "execution_count": 2,
   "metadata": {},
   "outputs": [],
   "source": [
    "df = pd.read_csv(\"spotify_millsongdata.csv\")"
   ]
  },
  {
   "cell_type": "code",
   "execution_count": 3,
   "metadata": {},
   "outputs": [
    {
     "data": {
      "text/plain": [
       "(57650, 4)"
      ]
     },
     "execution_count": 3,
     "metadata": {},
     "output_type": "execute_result"
    }
   ],
   "source": [
    "df.shape"
   ]
  },
  {
   "cell_type": "code",
   "execution_count": 4,
   "metadata": {},
   "outputs": [
    {
     "data": {
      "text/html": [
       "<div>\n",
       "<style scoped>\n",
       "    .dataframe tbody tr th:only-of-type {\n",
       "        vertical-align: middle;\n",
       "    }\n",
       "\n",
       "    .dataframe tbody tr th {\n",
       "        vertical-align: top;\n",
       "    }\n",
       "\n",
       "    .dataframe thead th {\n",
       "        text-align: right;\n",
       "    }\n",
       "</style>\n",
       "<table border=\"1\" class=\"dataframe\">\n",
       "  <thead>\n",
       "    <tr style=\"text-align: right;\">\n",
       "      <th></th>\n",
       "      <th>artist</th>\n",
       "      <th>song</th>\n",
       "      <th>link</th>\n",
       "      <th>text</th>\n",
       "    </tr>\n",
       "  </thead>\n",
       "  <tbody>\n",
       "    <tr>\n",
       "      <th>count</th>\n",
       "      <td>57650</td>\n",
       "      <td>57650</td>\n",
       "      <td>57650</td>\n",
       "      <td>57650</td>\n",
       "    </tr>\n",
       "    <tr>\n",
       "      <th>unique</th>\n",
       "      <td>643</td>\n",
       "      <td>44824</td>\n",
       "      <td>57650</td>\n",
       "      <td>57494</td>\n",
       "    </tr>\n",
       "    <tr>\n",
       "      <th>top</th>\n",
       "      <td>Donna Summer</td>\n",
       "      <td>Have Yourself A Merry Little Christmas</td>\n",
       "      <td>/a/abba/ahes+my+kind+of+girl_20598417.html</td>\n",
       "      <td>I just came back from a lovely trip along the ...</td>\n",
       "    </tr>\n",
       "    <tr>\n",
       "      <th>freq</th>\n",
       "      <td>191</td>\n",
       "      <td>35</td>\n",
       "      <td>1</td>\n",
       "      <td>6</td>\n",
       "    </tr>\n",
       "  </tbody>\n",
       "</table>\n",
       "</div>"
      ],
      "text/plain": [
       "              artist                                    song  \\\n",
       "count          57650                                   57650   \n",
       "unique           643                                   44824   \n",
       "top     Donna Summer  Have Yourself A Merry Little Christmas   \n",
       "freq             191                                      35   \n",
       "\n",
       "                                              link  \\\n",
       "count                                        57650   \n",
       "unique                                       57650   \n",
       "top     /a/abba/ahes+my+kind+of+girl_20598417.html   \n",
       "freq                                             1   \n",
       "\n",
       "                                                     text  \n",
       "count                                               57650  \n",
       "unique                                              57494  \n",
       "top     I just came back from a lovely trip along the ...  \n",
       "freq                                                    6  "
      ]
     },
     "execution_count": 4,
     "metadata": {},
     "output_type": "execute_result"
    }
   ],
   "source": [
    "df.describe()"
   ]
  },
  {
   "cell_type": "code",
   "execution_count": 14,
   "metadata": {},
   "outputs": [
    {
     "data": {
      "text/html": [
       "<div>\n",
       "<style scoped>\n",
       "    .dataframe tbody tr th:only-of-type {\n",
       "        vertical-align: middle;\n",
       "    }\n",
       "\n",
       "    .dataframe tbody tr th {\n",
       "        vertical-align: top;\n",
       "    }\n",
       "\n",
       "    .dataframe thead th {\n",
       "        text-align: right;\n",
       "    }\n",
       "</style>\n",
       "<table border=\"1\" class=\"dataframe\">\n",
       "  <thead>\n",
       "    <tr style=\"text-align: right;\">\n",
       "      <th></th>\n",
       "      <th>artist</th>\n",
       "      <th>song</th>\n",
       "      <th>link</th>\n",
       "      <th>text</th>\n",
       "    </tr>\n",
       "  </thead>\n",
       "  <tbody>\n",
       "    <tr>\n",
       "      <th>33754</th>\n",
       "      <td>George Michael</td>\n",
       "      <td>Careless Whisper</td>\n",
       "      <td>/g/george+michael/careless+whisper_20059228.html</td>\n",
       "      <td>I feel so unsure  \\r\\nAs I take your hand and ...</td>\n",
       "    </tr>\n",
       "    <tr>\n",
       "      <th>56084</th>\n",
       "      <td>Wham!</td>\n",
       "      <td>Careless Whisper</td>\n",
       "      <td>/w/wham/careless+whisper_20146061.html</td>\n",
       "      <td>I feel so unsure  \\r\\nAs I take your hand and ...</td>\n",
       "    </tr>\n",
       "  </tbody>\n",
       "</table>\n",
       "</div>"
      ],
      "text/plain": [
       "               artist              song  \\\n",
       "33754  George Michael  Careless Whisper   \n",
       "56084           Wham!  Careless Whisper   \n",
       "\n",
       "                                                   link  \\\n",
       "33754  /g/george+michael/careless+whisper_20059228.html   \n",
       "56084            /w/wham/careless+whisper_20146061.html   \n",
       "\n",
       "                                                    text  \n",
       "33754  I feel so unsure  \\r\\nAs I take your hand and ...  \n",
       "56084  I feel so unsure  \\r\\nAs I take your hand and ...  "
      ]
     },
     "execution_count": 14,
     "metadata": {},
     "output_type": "execute_result"
    }
   ],
   "source": [
    "df[df.song=='Careless Whisper']"
   ]
  },
  {
   "cell_type": "code",
   "execution_count": 11,
   "metadata": {},
   "outputs": [
    {
     "data": {
      "text/html": [
       "<div>\n",
       "<style scoped>\n",
       "    .dataframe tbody tr th:only-of-type {\n",
       "        vertical-align: middle;\n",
       "    }\n",
       "\n",
       "    .dataframe tbody tr th {\n",
       "        vertical-align: top;\n",
       "    }\n",
       "\n",
       "    .dataframe thead th {\n",
       "        text-align: right;\n",
       "    }\n",
       "</style>\n",
       "<table border=\"1\" class=\"dataframe\">\n",
       "  <thead>\n",
       "    <tr style=\"text-align: right;\">\n",
       "      <th></th>\n",
       "      <th>artist</th>\n",
       "      <th>song</th>\n",
       "      <th>text</th>\n",
       "    </tr>\n",
       "  </thead>\n",
       "  <tbody>\n",
       "    <tr>\n",
       "      <th>14334</th>\n",
       "      <td>Noa</td>\n",
       "      <td>Drive My Car</td>\n",
       "      <td>Asked a girl what she wanted to be  \\r\\nShe to...</td>\n",
       "    </tr>\n",
       "    <tr>\n",
       "      <th>22263</th>\n",
       "      <td>Young Jeezy</td>\n",
       "      <td>Last Of A Dying Breed</td>\n",
       "      <td>[Verse 1 - Young Jeezy]  \\r\\nWelcome to the li...</td>\n",
       "    </tr>\n",
       "    <tr>\n",
       "      <th>57121</th>\n",
       "      <td>Yello</td>\n",
       "      <td>Dr. Van Steiner</td>\n",
       "      <td>I can't separate your fiction from fact  \\r\\nY...</td>\n",
       "    </tr>\n",
       "    <tr>\n",
       "      <th>6027</th>\n",
       "      <td>Fiona Apple</td>\n",
       "      <td>Jonathan</td>\n",
       "      <td>Jonathan, call again  \\r\\nTake me to Coney Isl...</td>\n",
       "    </tr>\n",
       "    <tr>\n",
       "      <th>6351</th>\n",
       "      <td>Frank Sinatra</td>\n",
       "      <td>Barbara</td>\n",
       "      <td>Where there is sunrise, there is Barbara, only...</td>\n",
       "    </tr>\n",
       "    <tr>\n",
       "      <th>...</th>\n",
       "      <td>...</td>\n",
       "      <td>...</td>\n",
       "      <td>...</td>\n",
       "    </tr>\n",
       "    <tr>\n",
       "      <th>36785</th>\n",
       "      <td>Indigo Girls</td>\n",
       "      <td>Come A Long Way</td>\n",
       "      <td>I've come a long way  \\r\\nI was a show on ice ...</td>\n",
       "    </tr>\n",
       "    <tr>\n",
       "      <th>11135</th>\n",
       "      <td>Lady Gaga</td>\n",
       "      <td>Starstruck</td>\n",
       "      <td>Groove. slam. work it back. filter that. baby ...</td>\n",
       "    </tr>\n",
       "    <tr>\n",
       "      <th>35272</th>\n",
       "      <td>Hank Williams Jr.</td>\n",
       "      <td>Games People Play</td>\n",
       "      <td>Oh the games people play now  \\r\\nEvery night ...</td>\n",
       "    </tr>\n",
       "    <tr>\n",
       "      <th>46944</th>\n",
       "      <td>Opeth</td>\n",
       "      <td>Under The Weeping Moon</td>\n",
       "      <td>Once again I've cried  \\r\\nUnto the moon  \\r\\n...</td>\n",
       "    </tr>\n",
       "    <tr>\n",
       "      <th>26300</th>\n",
       "      <td>Bonnie Raitt</td>\n",
       "      <td>No Way To Treat A Lady</td>\n",
       "      <td>You can please me  \\r\\nYou can sweet talk and ...</td>\n",
       "    </tr>\n",
       "  </tbody>\n",
       "</table>\n",
       "<p>5000 rows × 3 columns</p>\n",
       "</div>"
      ],
      "text/plain": [
       "                  artist                    song  \\\n",
       "14334                Noa            Drive My Car   \n",
       "22263        Young Jeezy   Last Of A Dying Breed   \n",
       "57121              Yello         Dr. Van Steiner   \n",
       "6027         Fiona Apple                Jonathan   \n",
       "6351       Frank Sinatra                 Barbara   \n",
       "...                  ...                     ...   \n",
       "36785       Indigo Girls         Come A Long Way   \n",
       "11135          Lady Gaga              Starstruck   \n",
       "35272  Hank Williams Jr.       Games People Play   \n",
       "46944              Opeth  Under The Weeping Moon   \n",
       "26300       Bonnie Raitt  No Way To Treat A Lady   \n",
       "\n",
       "                                                    text  \n",
       "14334  Asked a girl what she wanted to be  \\r\\nShe to...  \n",
       "22263  [Verse 1 - Young Jeezy]  \\r\\nWelcome to the li...  \n",
       "57121  I can't separate your fiction from fact  \\r\\nY...  \n",
       "6027   Jonathan, call again  \\r\\nTake me to Coney Isl...  \n",
       "6351   Where there is sunrise, there is Barbara, only...  \n",
       "...                                                  ...  \n",
       "36785  I've come a long way  \\r\\nI was a show on ice ...  \n",
       "11135  Groove. slam. work it back. filter that. baby ...  \n",
       "35272  Oh the games people play now  \\r\\nEvery night ...  \n",
       "46944  Once again I've cried  \\r\\nUnto the moon  \\r\\n...  \n",
       "26300  You can please me  \\r\\nYou can sweet talk and ...  \n",
       "\n",
       "[5000 rows x 3 columns]"
      ]
     },
     "execution_count": 11,
     "metadata": {},
     "output_type": "execute_result"
    }
   ],
   "source": [
    "df=df.sample(5000).drop('link',axis='columns')\n",
    "df"
   ]
  },
  {
   "cell_type": "markdown",
   "metadata": {},
   "source": [
    "text preproccesing"
   ]
  },
  {
   "cell_type": "code",
   "execution_count": 12,
   "metadata": {},
   "outputs": [
    {
     "data": {
      "text/html": [
       "<div>\n",
       "<style scoped>\n",
       "    .dataframe tbody tr th:only-of-type {\n",
       "        vertical-align: middle;\n",
       "    }\n",
       "\n",
       "    .dataframe tbody tr th {\n",
       "        vertical-align: top;\n",
       "    }\n",
       "\n",
       "    .dataframe thead th {\n",
       "        text-align: right;\n",
       "    }\n",
       "</style>\n",
       "<table border=\"1\" class=\"dataframe\">\n",
       "  <thead>\n",
       "    <tr style=\"text-align: right;\">\n",
       "      <th></th>\n",
       "      <th>artist</th>\n",
       "      <th>song</th>\n",
       "      <th>text</th>\n",
       "    </tr>\n",
       "  </thead>\n",
       "  <tbody>\n",
       "    <tr>\n",
       "      <th>14334</th>\n",
       "      <td>Noa</td>\n",
       "      <td>Drive My Car</td>\n",
       "      <td>asked a girl what she wanted to be  \\r she tol...</td>\n",
       "    </tr>\n",
       "    <tr>\n",
       "      <th>22263</th>\n",
       "      <td>Young Jeezy</td>\n",
       "      <td>Last Of A Dying Breed</td>\n",
       "      <td>[verse 1 - young jeezy]  \\r welcome to the lif...</td>\n",
       "    </tr>\n",
       "    <tr>\n",
       "      <th>57121</th>\n",
       "      <td>Yello</td>\n",
       "      <td>Dr. Van Steiner</td>\n",
       "      <td>i can't separate your fiction from fact  \\r yo...</td>\n",
       "    </tr>\n",
       "    <tr>\n",
       "      <th>6027</th>\n",
       "      <td>Fiona Apple</td>\n",
       "      <td>Jonathan</td>\n",
       "      <td>jonathan, call again  \\r take me to coney isla...</td>\n",
       "    </tr>\n",
       "    <tr>\n",
       "      <th>6351</th>\n",
       "      <td>Frank Sinatra</td>\n",
       "      <td>Barbara</td>\n",
       "      <td>where there is sunrise, there is barbara, only...</td>\n",
       "    </tr>\n",
       "    <tr>\n",
       "      <th>...</th>\n",
       "      <td>...</td>\n",
       "      <td>...</td>\n",
       "      <td>...</td>\n",
       "    </tr>\n",
       "    <tr>\n",
       "      <th>36785</th>\n",
       "      <td>Indigo Girls</td>\n",
       "      <td>Come A Long Way</td>\n",
       "      <td>i've come a long way  \\r i was a show on ice  ...</td>\n",
       "    </tr>\n",
       "    <tr>\n",
       "      <th>11135</th>\n",
       "      <td>Lady Gaga</td>\n",
       "      <td>Starstruck</td>\n",
       "      <td>groove. slam. work it back. filter that. baby ...</td>\n",
       "    </tr>\n",
       "    <tr>\n",
       "      <th>35272</th>\n",
       "      <td>Hank Williams Jr.</td>\n",
       "      <td>Games People Play</td>\n",
       "      <td>oh the games people play now  \\r every night a...</td>\n",
       "    </tr>\n",
       "    <tr>\n",
       "      <th>46944</th>\n",
       "      <td>Opeth</td>\n",
       "      <td>Under The Weeping Moon</td>\n",
       "      <td>once again i've cried  \\r unto the moon  \\r th...</td>\n",
       "    </tr>\n",
       "    <tr>\n",
       "      <th>26300</th>\n",
       "      <td>Bonnie Raitt</td>\n",
       "      <td>No Way To Treat A Lady</td>\n",
       "      <td>you can please me  \\r you can sweet talk and l...</td>\n",
       "    </tr>\n",
       "  </tbody>\n",
       "</table>\n",
       "<p>5000 rows × 3 columns</p>\n",
       "</div>"
      ],
      "text/plain": [
       "                  artist                    song  \\\n",
       "14334                Noa            Drive My Car   \n",
       "22263        Young Jeezy   Last Of A Dying Breed   \n",
       "57121              Yello         Dr. Van Steiner   \n",
       "6027         Fiona Apple                Jonathan   \n",
       "6351       Frank Sinatra                 Barbara   \n",
       "...                  ...                     ...   \n",
       "36785       Indigo Girls         Come A Long Way   \n",
       "11135          Lady Gaga              Starstruck   \n",
       "35272  Hank Williams Jr.       Games People Play   \n",
       "46944              Opeth  Under The Weeping Moon   \n",
       "26300       Bonnie Raitt  No Way To Treat A Lady   \n",
       "\n",
       "                                                    text  \n",
       "14334  asked a girl what she wanted to be  \\r she tol...  \n",
       "22263  [verse 1 - young jeezy]  \\r welcome to the lif...  \n",
       "57121  i can't separate your fiction from fact  \\r yo...  \n",
       "6027   jonathan, call again  \\r take me to coney isla...  \n",
       "6351   where there is sunrise, there is barbara, only...  \n",
       "...                                                  ...  \n",
       "36785  i've come a long way  \\r i was a show on ice  ...  \n",
       "11135  groove. slam. work it back. filter that. baby ...  \n",
       "35272  oh the games people play now  \\r every night a...  \n",
       "46944  once again i've cried  \\r unto the moon  \\r th...  \n",
       "26300  you can please me  \\r you can sweet talk and l...  \n",
       "\n",
       "[5000 rows x 3 columns]"
      ]
     },
     "execution_count": 12,
     "metadata": {},
     "output_type": "execute_result"
    }
   ],
   "source": [
    "df['text']=df['text'].str.lower().replace(r'\\w\\s',' ').replace(r'\\n',' ',regex=True)\n",
    "df"
   ]
  },
  {
   "cell_type": "code",
   "execution_count": 13,
   "metadata": {},
   "outputs": [],
   "source": [
    "import nltk \n",
    "from nltk.stem.porter import PorterStemmer"
   ]
  },
  {
   "cell_type": "code",
   "execution_count": 14,
   "metadata": {},
   "outputs": [],
   "source": [
    "stemmer = PorterStemmer()"
   ]
  },
  {
   "cell_type": "code",
   "execution_count": 15,
   "metadata": {},
   "outputs": [],
   "source": [
    "def token(txt):\n",
    "    token = nltk.word_tokenize(txt)\n",
    "    a=[stemmer.stem(w) for w in token]\n",
    "    return ' '.join(a)"
   ]
  },
  {
   "cell_type": "code",
   "execution_count": 16,
   "metadata": {},
   "outputs": [],
   "source": [
    "from sklearn.feature_extraction.text import TfidfVectorizer\n",
    "from sklearn.metrics.pairwise import cosine_similarity"
   ]
  },
  {
   "cell_type": "code",
   "execution_count": 17,
   "metadata": {},
   "outputs": [],
   "source": [
    "df['text']=df['text'].apply(token)"
   ]
  },
  {
   "cell_type": "code",
   "execution_count": 18,
   "metadata": {},
   "outputs": [],
   "source": [
    "tfid=TfidfVectorizer(analyzer='word',stop_words='english')"
   ]
  },
  {
   "cell_type": "code",
   "execution_count": 19,
   "metadata": {},
   "outputs": [],
   "source": [
    "matrix=tfid.fit_transform(df['text'])"
   ]
  },
  {
   "cell_type": "code",
   "execution_count": 20,
   "metadata": {},
   "outputs": [],
   "source": [
    "similar = cosine_similarity(matrix)"
   ]
  },
  {
   "cell_type": "code",
   "execution_count": 21,
   "metadata": {},
   "outputs": [
    {
     "data": {
      "text/plain": [
       "array([0.08059529, 1.        , 0.00975392, ..., 0.113097  , 0.03925294,\n",
       "       0.05764855])"
      ]
     },
     "execution_count": 21,
     "metadata": {},
     "output_type": "execute_result"
    }
   ],
   "source": [
    "similar[1]"
   ]
  },
  {
   "cell_type": "code",
   "execution_count": 22,
   "metadata": {},
   "outputs": [],
   "source": [
    "df.reset_index(drop=True, inplace=True)\n",
    "k = len(df)  # Ensure k matches the number of rows in df\n",
    "df.index = range(1, k + 1)"
   ]
  },
  {
   "cell_type": "code",
   "execution_count": 23,
   "metadata": {},
   "outputs": [
    {
     "data": {
      "text/plain": [
       "2317"
      ]
     },
     "execution_count": 23,
     "metadata": {},
     "output_type": "execute_result"
    }
   ],
   "source": [
    "df[df['song']=='Let There Be Love'].index[0]"
   ]
  },
  {
   "cell_type": "markdown",
   "metadata": {},
   "source": [
    "Recommender function"
   ]
  },
  {
   "cell_type": "code",
   "execution_count": 24,
   "metadata": {},
   "outputs": [],
   "source": [
    "import numpy as np\n",
    "\n",
    "def recommender(song_name):\n",
    "    if song_name not in df['song'].values:\n",
    "        return \"Song not found in the database.\"\n",
    "    \n",
    "    idx = df[df['song'] == song_name].index[0]\n",
    "    \n",
    "    if idx >= len(similar):\n",
    "        return \"Index out of bounds in similarity matrix.\"\n",
    "    \n",
    "    # Ensure similar[idx] is a 1D array or list\n",
    "    if isinstance(similar[idx], (np.ndarray, list)):\n",
    "        similar_row = np.array(similar[idx]).flatten()  # Flatten to 1D if it's not already 1D\n",
    "        distance = sorted(list(enumerate(similar_row)), reverse=True, key=lambda x: x[1])\n",
    "    else:\n",
    "        return \"similar[idx] is not a valid list or array.\"\n",
    "    \n",
    "    song = []\n",
    "    \n",
    "    for s_id in distance[1:5]:  # Skipping the first element, which is the same song\n",
    "        try:\n",
    "            song.append(df.iloc[s_id[0]].song)\n",
    "        except IndexError as e:\n",
    "            return f\"IndexError: {e} - Invalid index in distance list\"\n",
    "    \n",
    "    return song\n"
   ]
  },
  {
   "cell_type": "code",
   "execution_count": 25,
   "metadata": {},
   "outputs": [
    {
     "data": {
      "text/plain": [
       "[\"All I've Got To Do\",\n",
       " 'We Gotta Get Out Of Here',\n",
       " 'Sugarcane',\n",
       " 'You Better Ask']"
      ]
     },
     "execution_count": 25,
     "metadata": {},
     "output_type": "execute_result"
    }
   ],
   "source": [
    "recommender(\"Let There Be Love\")"
   ]
  },
  {
   "cell_type": "code",
   "execution_count": 26,
   "metadata": {},
   "outputs": [],
   "source": [
    "import pickle"
   ]
  },
  {
   "cell_type": "code",
   "execution_count": 27,
   "metadata": {},
   "outputs": [],
   "source": [
    "pickle.dump(similar,open(\"similarity\",\"wb\"))"
   ]
  },
  {
   "cell_type": "code",
   "execution_count": 28,
   "metadata": {},
   "outputs": [],
   "source": [
    "pickle.dump(df,open(\"df\",\"wb\"))"
   ]
  }
 ],
 "metadata": {
  "kernelspec": {
   "display_name": "Python 3",
   "language": "python",
   "name": "python3"
  },
  "language_info": {
   "codemirror_mode": {
    "name": "ipython",
    "version": 3
   },
   "file_extension": ".py",
   "mimetype": "text/x-python",
   "name": "python",
   "nbconvert_exporter": "python",
   "pygments_lexer": "ipython3",
   "version": "3.12.1"
  }
 },
 "nbformat": 4,
 "nbformat_minor": 2
}
